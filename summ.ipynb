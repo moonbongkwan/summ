{
  "nbformat": 4,
  "nbformat_minor": 0,
  "metadata": {
    "colab": {
      "name": "Untitled1.ipynb",
      "provenance": [],
      "toc_visible": true,
      "authorship_tag": "ABX9TyPeAPKvfiH/V2DsFlDH1Yek",
      "include_colab_link": true
    },
    "kernelspec": {
      "name": "python3",
      "display_name": "Python 3"
    }
  },
  "cells": [
    {
      "cell_type": "markdown",
      "metadata": {
        "id": "view-in-github",
        "colab_type": "text"
      },
      "source": [
        "<a href=\"https://colab.research.google.com/github/moonbongkwan/summ/blob/master/summ.ipynb\" target=\"_parent\"><img src=\"https://colab.research.google.com/assets/colab-badge.svg\" alt=\"Open In Colab\"/></a>"
      ]
    },
    {
      "cell_type": "code",
      "metadata": {
        "id": "fqbmunnVqfxm",
        "colab_type": "code",
        "colab": {
          "base_uri": "https://localhost:8080/",
          "height": 199
        },
        "outputId": "19113403-863f-4637-c16d-db5099498ac1"
      },
      "source": [
        "from gensim.summarization.summarizer import summarize\n",
        "from newspaper import Article\n",
        "\n",
        "url = 'https://sports.news.naver.com/news.nhn?oid=477&aid=0000252735'\n",
        "news = Article(url, language='ko')\n",
        "news.download()\n",
        "news.parse()\n",
        "print(news.text)"
      ],
      "execution_count": 37,
      "outputs": [
        {
          "output_type": "stream",
          "text": [
            "▲ 키움 외국인투수 에릭 요키시가 9일 고척 삼성전에서 7이닝 2실점 호투하고 다승 공동선두로 올라섰다. ⓒ곽혜미 기자 ▲ 키움 외국인투수 에릭 요키시가 9일 고척 삼성전에서 7이닝 2실점 호투하고 다승 공동선두로 올라섰다. ⓒ곽혜미 기자\n",
            "\n",
            "▲ 키움 이정후가 9일 고척 삼성전에서 2-2로 맞선 5회말 1타점 결승 3루타를 때려냈다. ⓒ곽혜미 기자 ▲ 키움 이정후가 9일 고척 삼성전에서 2-2로 맞선 5회말 1타점 결승 3루타를 때려냈다. ⓒ곽혜미 기자\n",
            "\n",
            "[스포티비뉴스=고척돔, 고봉준 기자] 키움 히어로즈가 외국인투수 에릭 요키시의 위력투를 앞세워 산뜻한 2연승을 달렸다.키움은 9일 고척스카이돔에서 열린 삼성 라이온즈전에서 요키시의 7이닝 2실점 호투와 5회말 이정후의 결승타를 내세워 4-2로 이겼다. 1-2로 뒤지던 5회 무사 1·3루 서건창의 좌익수 희생 플라이로 동점을 만들었고, 이정후의 우월 3루타로 3-2 리드를 가져온 뒤 박병호의 좌전안타로 1점을 추가해 쐐기를 박았다.마운드에선 요키시의 역투가 빛났다. 요키시는 7이닝 동안 104구를 던지며 삼성 타선을 잠재웠다. 이날 호투로 올 시즌 8승(2패)째를 달성하고, 다승 부문 단독선두였던 NC 다이노스 구창모 그리고 같은 날 8승을 기록한 두산 베어스 라울 알칸타라와 어깨를 나란히 했다. 평균자책점 역시 기존 1.30에서 1.41로 올랐지만, 부문 단독선두는 굳게 지켰다.반면 삼성은 백정현이 5이닝 6안타 3볼넷 4실점으로 부진한 가운데 타선 역시 집중력을 잃으며 패배를 안았다.선취점은 삼성의 몫이었다. 1회 1사 후 구자욱이 우전안타로 출루한 뒤 김동엽의 중전안타와 이원석의 2루 땅볼로 2사 1·3루를 만들었고, 이학주가 풀카운트에서 요키시의 시속 142㎞짜리 투심을 공략해 중전 적시타를 뽑아냈다.키움도 곧바로 반격했다. 1회 선두타자 서건창의 중월 3루타로 만든 무사 3루 찬스를 놓쳤지만, 2회 2사 만루에서 백정현의 폭투를 틈타 3루주자 이지영이 홈을 밟았다.동점을 허용한 삼성은 5회 다시 달아났다. 박승규의 좌전안타와 박해민의 희생번트 그리고 김상수의 우중간 2루타로 1점을 냈다.그러나 키움 역시 가만히 있지 않았다. 5회 공격에서 리드를 가져왔다. 선두타자 전병우의 좌전 2루타와 박준태의 1루 방면 내야안타로 만든 무사 1·3루 기회. 타석으로 들어선 서건창이 좌익 선상 깊은 희생플라이로 동점을 만들었다.키움은 이어 2사 2루에서 이정후가 우월 3루타를 때려내 3-2로 전세를 뒤집었다. 삼성 우익수 박승규가 펜스 끝까지 공을 쫓았지만, 잡지 못했고, 이 사이 이정후는 3루까지 내달렸다. 기세는 쉽게 사그라지지 않았다. 후속타자 박병호의 좌전안타로 1점을 추가해 4-2로 도망갔다.이처럼 타자들이 효과적으로 백정현을 공략하는 사이 마운드는 요키시가 굳게 지켰다. 요키시는 1회와 5회 1점씩을 내줬지만, 나머지 이닝을 깔끔하게 처리하면서 호투를 펼쳤다. 최고구속 146㎞까지 기록된 주무기 투심 패스트볼을 비롯해 커브, 슬라이더, 체인지업으로 삼성 타자들을 요리했다.키움은 8회 안우진 그리고 9회 조상우를 올려 뒷문을 무실점으로 걸어 잠그고 승리를 지켰다.스포티비뉴스=고척돔, 고봉준 기자\n",
            "\n",
            "기사제공 스포티비뉴스\n",
            "\n",
            "현장에서 작성된 기사입니다.\n"
          ],
          "name": "stdout"
        }
      ]
    },
    {
      "cell_type": "code",
      "metadata": {
        "id": "_ZSeh1plwuYW",
        "colab_type": "code",
        "colab": {
          "base_uri": "https://localhost:8080/",
          "height": 73
        },
        "outputId": "c0c9a4fc-e58a-4a38-c9da-9ce5250482f3"
      },
      "source": [
        "print(summarize(news.text, ratio=0.1))"
      ],
      "execution_count": 40,
      "outputs": [
        {
          "output_type": "stream",
          "text": [
            "ⓒ곽혜미 기자 ▲ 키움 외국인투수 에릭 요키시가 9일 고척 삼성전에서 7이닝 2실점 호투하고 다승 공동선두로 올라섰다.\n",
            "1-2로 뒤지던 5회 무사 1·3루 서건창의 좌익수 희생 플라이로 동점을 만들었고, 이정후의 우월 3루타로 3-2 리드를 가져온 뒤 박병호의 좌전안타로 1점을 추가해 쐐기를 박았다.마운드에선 요키시의 역투가 빛났다.\n"
          ],
          "name": "stdout"
        }
      ]
    },
    {
      "cell_type": "code",
      "metadata": {
        "id": "ifthsST-xM_c",
        "colab_type": "code",
        "colab": {}
      },
      "source": [
        ""
      ],
      "execution_count": null,
      "outputs": []
    }
  ]
}